{
 "cells": [
  {
   "cell_type": "code",
   "execution_count": 4,
   "metadata": {
    "collapsed": false
   },
   "outputs": [
    {
     "name": "stdout",
     "output_type": "stream",
     "text": [
      "Populating the interactive namespace from numpy and matplotlib\n"
     ]
    }
   ],
   "source": [
    "%pylab inline "
   ]
  },
  {
   "cell_type": "code",
   "execution_count": 5,
   "metadata": {
    "collapsed": false
   },
   "outputs": [
    {
     "name": "stdout",
     "output_type": "stream",
     "text": [
      "radio\n",
      "0.25\n",
      "masa\n",
      "1.0\n",
      "densidad agua\n",
      "0.008\n",
      "nu\n",
      "0.002\n",
      "velocidad\n",
      "4e-06\n"
     ]
    }
   ],
   "source": [
    "m=1/(4*0.5e-06)\n",
    "kg=1/1.0e-15\n",
    "tiempo=1.0*1e9\n",
    "newton=m*kg/(tiempo**2)\n",
    "\n",
    "\n",
    "a=0.5e-6*m #0.5 µm\n",
    "masa=1.0e-15*kg #1pg\n",
    "densidad_agua=1.0*(kg/(m**3)) #1.000 kg/m³\n",
    "nu=1.0e-3*(newton*tiempo*m**-2) #1.0e-3 N*s/m2\n",
    "velocidad=8.0e-3*(m/tiempo) #8mm/s\n",
    "\n",
    "print \"radio\" \n",
    "print a\n",
    "print \"masa\" \n",
    "print masa\n",
    "print \"densidad agua\"\n",
    "print densidad_agua\n",
    "print \"nu\"\n",
    "print nu\n",
    "print \"velocidad\"\n",
    "print velocidad"
   ]
  },
  {
   "cell_type": "code",
   "execution_count": 6,
   "metadata": {
    "collapsed": false
   },
   "outputs": [
    {
     "name": "stdout",
     "output_type": "stream",
     "text": [
      "10.0\n",
      "4e-06\n",
      "1.6e-05\n"
     ]
    }
   ],
   "source": [
    "h=(10*a)\n",
    "s= velocidad/(1.0-0.0)\n",
    "print h/a\n",
    "print s\n",
    "print s*4"
   ]
  },
  {
   "cell_type": "code",
   "execution_count": 7,
   "metadata": {
    "collapsed": true
   },
   "outputs": [],
   "source": [
    "#efectos rotacionales\n",
    "def Tr(a,h): \n",
    "    x=a/h\n",
    "    return -(1+(5.0/16.0)*x**3)\n",
    "\n",
    "def Fr(a,h):\n",
    "    x=a/h\n",
    "    return (1.0/8.0)*(x**4)\n",
    "\n",
    "#efectos translacionales\n",
    "def Tt(a,h):\n",
    "    x=a/h\n",
    "    return (3.0/32.0)*(x**4)\n",
    "\n",
    "def Ft(a,h):\n",
    "    x=a/h\n",
    "    respuesta=1-(9.0/16.0)*x\n",
    "    return -1.0/(respuesta) \n",
    "\n",
    "\n",
    "#efectos de cortantes\n",
    "def Ts(a,h):\n",
    "    x=a/h\n",
    "    return 1-(3.0/16.0)*(x)**3\n",
    "\n",
    "def Fs(a,h):\n",
    "    x=a/h\n",
    "    return 1+(9.0/16.0)*(x)\n",
    "\n",
    "\n",
    "#velocidades estacionaris\n",
    "def W_goldman(h,s,a):\n",
    "    respuesta =(2.0*(h/a)*Fs(a,h)*Tt(a,h)-Ft(a,h)*Ts(a,h))/(Ft(a,h)*Tr(a,h)-Fr(a,h)*Tt(a,h))\n",
    "    return respuesta*0.5*s\n",
    "def U_goldman(h,s,a):\n",
    "    respuesta= (0.5*(a/h)*Fr(a,h)*Ts(a,h)-Fs(a,h)*Tr(a,h))/(Ft(a,h)*Tr(a,h)-Fr(a,h)*Tt(a,h))\n",
    "    return respuesta*h*s"
   ]
  },
  {
   "cell_type": "code",
   "execution_count": 8,
   "metadata": {
    "collapsed": false,
    "scrolled": true
   },
   "outputs": [
    {
     "name": "stdout",
     "output_type": "stream",
     "text": [
      "1.99937400932e-06\n",
      "9.96836527159e-06\n"
     ]
    }
   ],
   "source": [
    "print W_goldman(h,s,a)\n",
    "print U_goldman(h,s,a)\n",
    "W=W_goldman(h,s,a)\n",
    "U=U_goldman(h,s,a)"
   ]
  },
  {
   "cell_type": "code",
   "execution_count": 127,
   "metadata": {
    "collapsed": false
   },
   "outputs": [],
   "source": [
    "b=np.loadtxt(\"evolucion_2.5_1.6e-5.dat\", delimiter=',')\n",
    "b=transpose(b)\n",
    "inicio=4000\n",
    "dx = 0.075\n",
    "dt = 0.01\n",
    "t=(b[0][4000:]-4000)*1e-9"
   ]
  },
  {
   "cell_type": "code",
   "execution_count": 131,
   "metadata": {
    "collapsed": false,
    "scrolled": false
   },
   "outputs": [
    {
     "data": {
      "text/plain": [
       "(0, 1.2e-05)"
      ]
     },
     "execution_count": 131,
     "metadata": {},
     "output_type": "execute_result"
    },
    {
     "data": {
      "image/png": "[encoded data removed]",
      "text/plain": [
       "<matplotlib.figure.Figure at 0x11bc6fcd0>"
      ]
     },
     "metadata": {},
     "output_type": "display_data"
    }
   ],
   "source": [
    "plot(t,(dx/dt)*b[1][4000:],label=\"x\")\n",
    "plot(t,(dx/dt)*b[2][4000:],label=\"y\")\n",
    "plot(t,(dx/dt)*b[3][4000:],label=\"z\")\n",
    "plot(t,U*ones(len(t)),linestyle='--')\n",
    "ylabel(\"Velociy\")\n",
    "xlabel(\"tiempo(s)\")\n",
    "ylim(0)"
   ]
  },
  {
   "cell_type": "code",
   "execution_count": 129,
   "metadata": {
    "collapsed": false
   },
   "outputs": [
    {
     "data": {
      "text/plain": [
       "<matplotlib.text.Text at 0x124165b50>"
      ]
     },
     "execution_count": 129,
     "metadata": {},
     "output_type": "execute_result"
    },
    {
     "data": {
      "image/png": "[encoded data removed]",
      "text/plain": [
       "<matplotlib.figure.Figure at 0x11c31e650>"
      ]
     },
     "metadata": {},
     "output_type": "display_data"
    }
   ],
   "source": [
    "plot(t,(1/dt)*b[5][4000:],label=\"y\")\n",
    "\n",
    "plot(t,W*ones(len(t)),linestyle='--')\n",
    "ylim(0,0.3e-5)\n",
    "\n",
    "xlabel(\"Time(ns)\")\n",
    "ylabel(\"Angular Velociy\")\n"
   ]
  },
  {
   "cell_type": "code",
   "execution_count": 133,
   "metadata": {
    "collapsed": false
   },
   "outputs": [
    {
     "data": {
      "text/plain": [
       "<matplotlib.text.Text at 0x122319090>"
      ]
     },
     "execution_count": 133,
     "metadata": {},
     "output_type": "execute_result"
    },
    {
     "data": {
      "image/png": "[encoded data removed]",
      "text/plain": [
       "<matplotlib.figure.Figure at 0x122220e90>"
      ]
     },
     "metadata": {},
     "output_type": "display_data"
    }
   ],
   "source": [
    "plot(t,b[7][4000:],label=\"x\")\n",
    "xlabel(\"Time(ns)\")\n",
    "ylabel(\"Force\")"
   ]
  },
  {
   "cell_type": "code",
   "execution_count": 45,
   "metadata": {
    "collapsed": false
   },
   "outputs": [
    {
     "data": {
      "text/plain": [
       "<matplotlib.text.Text at 0x11b28fb90>"
      ]
     },
     "execution_count": 45,
     "metadata": {},
     "output_type": "execute_result"
    },
    {
     "data": {
      "image/png": "[encoded data removed]",
      "text/plain": [
       "<matplotlib.figure.Figure at 0x1141f9f90>"
      ]
     },
     "metadata": {},
     "output_type": "display_data"
    }
   ],
   "source": [
    "plot(t,b[8][4000:],label=\"y\")\n",
    "xlabel(\"Time(ns)\")\n",
    "ylabel(\"Torque\")"
   ]
  },
  {
   "cell_type": "code",
   "execution_count": 111,
   "metadata": {
    "collapsed": false
   },
   "outputs": [],
   "source": [
    "d=np.loadtxt(\"1.6e-5_variar_alturas.txt\", delimiter=',')\n",
    "c=np.loadtxt(\"datos_de_fuerza_teoricos.txt\", delimiter=',')\n",
    "d=transpose(d)\n",
    "c=transpose(c)\n",
    "altura=d[0]/a\n",
    "fuerza_normalizada=d[1]/(6*pi*nu*0.25*s*d[0])\n",
    "torque_normalizada=d[2]/(4*pi*nu*(0.25)**3*s) "
   ]
  },
  {
   "cell_type": "code",
   "execution_count": 123,
   "metadata": {
    "collapsed": false
   },
   "outputs": [
    {
     "data": {
      "text/plain": [
       "(0, 2.5)"
      ]
     },
     "execution_count": 123,
     "metadata": {},
     "output_type": "execute_result"
    },
    {
     "data": {
      "image/png": "[encoded data removed]",
      "text/plain": [
       "<matplotlib.figure.Figure at 0x11c913190>"
      ]
     },
     "metadata": {},
     "output_type": "display_data"
    }
   ],
   "source": [
    "scatter(altura,fuerza_normalizada)\n",
    "xlabel(\"h / a\")\n",
    "ylabel(\"Normalized force\")\n",
    "plot(c[0],c[1],linestyle='--')\n",
    "xlim(0.5,12)\n",
    "ylim(0,2.5)"
   ]
  },
  {
   "cell_type": "code",
   "execution_count": 113,
   "metadata": {
    "collapsed": false
   },
   "outputs": [
    {
     "data": {
      "text/plain": [
       "(0, 2)"
      ]
     },
     "execution_count": 113,
     "metadata": {},
     "output_type": "execute_result"
    },
    {
     "data": {
      "image/png": "[encoded data removed]",
      "text/plain": [
       "<matplotlib.figure.Figure at 0x11cf4cf90>"
      ]
     },
     "metadata": {},
     "output_type": "display_data"
    }
   ],
   "source": [
    "scatter(altura,torque_normalizada)\n",
    "plot(c[0],c[2],linestyle='--')\n",
    "xlabel(\"h / a\")\n",
    "ylabel(\"Normalized torque\")\n",
    "ylim(0,2)"
   ]
  },
  {
   "cell_type": "code",
   "execution_count": 114,
   "metadata": {
    "collapsed": false
   },
   "outputs": [
    {
     "data": {
      "text/plain": [
       "array([ 1.04651199,  1.03146009,  1.02733524,  1.0157491 ,  0.98950685,\n",
       "        0.97834143,  0.95725308,  0.95299533,  0.95317951])"
      ]
     },
     "execution_count": 114,
     "metadata": {},
     "output_type": "execute_result"
    }
   ],
   "source": [
    "torque_normalizada"
   ]
  }
 ],
 "metadata": {
  "kernelspec": {
   "display_name": "Python 2",
   "language": "python",
   "name": "python2"
  },
  "language_info": {
   "codemirror_mode": {
    "name": "ipython",
    "version": 2
   },
   "file_extension": ".py",
   "mimetype": "text/x-python",
   "name": "python",
   "nbconvert_exporter": "python",
   "pygments_lexer": "ipython2",
   "version": "2.7.11"
  }
 },
 "nbformat": 4,
 "nbformat_minor": 0
}
