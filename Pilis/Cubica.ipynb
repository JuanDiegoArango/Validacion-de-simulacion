{
 "cells": [
  {
   "cell_type": "code",
   "execution_count": 2,
   "metadata": {
    "collapsed": true
   },
   "outputs": [],
   "source": [
    "from sympy.solvers import solve\n",
    "from sympy import Symbol\n",
    "from sympy import *"
   ]
  },
  {
   "cell_type": "code",
   "execution_count": 3,
   "metadata": {
    "collapsed": false
   },
   "outputs": [],
   "source": [
    "x= Symbol('x')\n",
    "L, ka, Na, Nb, La0, Lb0, kbT ,lp  = symbols('L ka Na Nb La0 Lb0 kbT lp ')\n",
    "a, c, b = symbols('a c b ')\n",
    "\n",
    "z1=(ka/Na)*((L-x)-a)\n",
    "z2=z1*(b)**-1\n",
    "z3=z2+0.25-x/(c)\n",
    "z=z3*4.0*(1-(x/(c)))**2-1"
   ]
  },
  {
   "cell_type": "code",
   "execution_count": 4,
   "metadata": {
    "collapsed": false
   },
   "outputs": [
    {
     "name": "stdout",
     "output_type": "stream",
     "text": [
      "4.0*(Na*b + c*ka)/Na\n",
      "-c*(9.0*Na*b + 8.0*c*ka + ka*(4.0*L - 4.0*a))/Na\n",
      "c**2*(6.0*Na*b + 4.0*c*ka + ka*(8.0*L - 8.0*a))/Na\n",
      "-c**3*ka*(4.0*L - 4.0*a)/Na\n"
     ]
    }
   ],
   "source": [
    "z=expand(z)\n",
    "w=collect(z,x)\n",
    "print  (factor(-simplify(w.coeff(x,3)*b*c**3)))\n",
    "print  ((-simplify(w.coeff(x,2)*b*c**3)))\n",
    "print  ((-simplify(w.coeff(x,1)*b*c**3)))\n",
    "print  ((-simplify(w.coeff(x,0)*b*c**3)))"
   ]
  },
  {
   "cell_type": "code",
   "execution_count": 5,
   "metadata": {
    "collapsed": false
   },
   "outputs": [
    {
     "data": {
      "text/plain": [
       "Na*c*(-4.0*L*ka + 4.0*a*ka - 9.0*b - 8.0*c*ka)"
      ]
     },
     "execution_count": 5,
     "metadata": {},
     "output_type": "execute_result"
    }
   ],
   "source": [
    "Na*c*(-4.0*L*ka + 4.0*a*ka - 9.0*b - 8.0*c*ka)"
   ]
  }
 ],
 "metadata": {
  "kernelspec": {
   "display_name": "Python 2",
   "language": "python",
   "name": "python2"
  }
 },
 "nbformat": 4,
 "nbformat_minor": 0
}
